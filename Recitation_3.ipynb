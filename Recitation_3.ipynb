{
  "nbformat": 4,
  "nbformat_minor": 0,
  "metadata": {
    "colab": {
      "name": "Recitation_3.ipynb",
      "provenance": [],
      "collapsed_sections": [],
      "authorship_tag": "ABX9TyNlzYBFZanHVNL4YFbo/xJx"
    },
    "kernelspec": {
      "name": "python3",
      "display_name": "Python 3"
    },
    "language_info": {
      "name": "python"
    }
  },
  "cells": [
    {
      "cell_type": "markdown",
      "metadata": {
        "id": "PTnyRaFTHNK0"
      },
      "source": [
        "**Given a number, we have to determine if it is an up number**\n",
        "\n",
        "\n",
        "*   A number is an up number if it either stays the same or increases. For example, 1222456788, 223333, 789, 12345678 \n",
        "\n",
        "\n",
        "\n",
        "\n"
      ]
    },
    {
      "cell_type": "code",
      "metadata": {
        "colab": {
          "base_uri": "https://localhost:8080/"
        },
        "id": "hElWryuMHP5b",
        "outputId": "ab54ebc2-0233-4c48-acdf-bc779a194ea4"
      },
      "source": [
        "#Checking for an up number i.e. 888999\n",
        "\n",
        "num=str(input(\"Enter a number:\")) #Just for the simplicity of this problem, we are taking the input as a string\n",
        "\n",
        "up_flag=True #Using a flag to determine if our number is strictly increasing or not. We will make this false as soon as our next number is less than our current\n",
        "\n",
        "for i in range(0, len(num)-1): #for loop that iterates all over the string \n",
        "  if num[i] > num[i+1]: #this condition will be true if next number is less than our current number. num[i+1] gives next number\n",
        "    up_flag=False #As soon as our next number is less than current, our up_Flag should be False \n",
        "\n",
        "if up_flag:  #If up_Flag is true, our number is Up number, otherwise, it is not \n",
        "  print(\"Up Number\")\n",
        "else:\n",
        "  print(\"Not an up number\")\n"
      ],
      "execution_count": 18,
      "outputs": [
        {
          "output_type": "stream",
          "name": "stdout",
          "text": [
            "Enter a number:1234567\n",
            "Up Number\n"
          ]
        }
      ]
    },
    {
      "cell_type": "markdown",
      "metadata": {
        "id": "aitNCgcmLeAG"
      },
      "source": [
        "\n",
        "**Given a number, we have to determine if a number is a down number.** \n",
        "*   A down number is any number that either stays the same or decreases. For example, 5543221\n"
      ]
    },
    {
      "cell_type": "code",
      "metadata": {
        "colab": {
          "base_uri": "https://localhost:8080/"
        },
        "id": "JFgtcE7XWy3d",
        "outputId": "4dc70630-b0fe-4fb1-82ca-325f2c17d31e"
      },
      "source": [
        "#Checking for down number i.e. 987654321\n",
        "num=str(input(\"Enter a number:\"))\n",
        "\n",
        "down_flag=True #A flag to determine if a number is down or not. We will make it false as soon as our numbers start increasing. \n",
        "\n",
        "for i in range(0, len(num)-1):\n",
        "  if num[i] < num[i+1]: #If our next number is greater than our current, condition will be true \n",
        "    down_flag=False #Making our down flag false as soon as our next number is greater than our current \n",
        "\n",
        "if down_flag:\n",
        "  print(\"Down Number\")\n",
        "else:\n",
        "  print(\"Not a down number\")"
      ],
      "execution_count": 22,
      "outputs": [
        {
          "output_type": "stream",
          "name": "stdout",
          "text": [
            "Enter a number:9874320\n",
            "Down Number\n"
          ]
        }
      ]
    },
    {
      "cell_type": "markdown",
      "metadata": {
        "id": "pN_yM4nDLzA_"
      },
      "source": [
        "**Given a number, we have to determine if it is an Updown number**\n",
        "\n",
        "\n",
        "*   An updown number increase or stays the same, then decreases or stays the same. For example, 123444321, 567897654, 123456789987654321\n",
        "\n"
      ]
    },
    {
      "cell_type": "code",
      "metadata": {
        "colab": {
          "base_uri": "https://localhost:8080/"
        },
        "id": "z0iDxa8OZj1N",
        "outputId": "82f6eaaf-b316-45b4-b7ce-342c1cb1b1d8"
      },
      "source": [
        "#Updown number using loops \n",
        "\n",
        "num=str(input(\"Enter a number:\"))\n",
        "\n",
        "transition=False #Using this flag to check if there is a transition or not i.e. My numbers go from increasing to decreasing. \n",
        "updownFlag=True  #This flag just makes sure that once we start decreasing, we don't increase again\n",
        "\n",
        "for i in range(0, len(num)-1):\n",
        "\n",
        "  if num[i]>num[i+1]:  #This condition becomes true when your next variable is less than your current. So a transition happens \n",
        "    transition=True  #As there is a transition, we will make our transition flag true \n",
        "\n",
        "  if transition and num[i] < num[i+1]: #This will only become true if there is a transition, and our next number is greater than our next number/\n",
        "    updownFlag=False #Updown flag becomes false, because after transition, we want our numbers to be strictly decreasing. \n",
        "\n",
        "if transition and updownFlag: #Only true when a transition happens, AND the numbers strictly decrease or stay the same after it\n",
        "  print(\"Updown number\")\n",
        "else: \n",
        "  print(\"Not an updown number\")\n"
      ],
      "execution_count": 27,
      "outputs": [
        {
          "output_type": "stream",
          "name": "stdout",
          "text": [
            "Enter a number:123456789987654321\n",
            "Updown number\n"
          ]
        }
      ]
    },
    {
      "cell_type": "code",
      "metadata": {
        "colab": {
          "base_uri": "https://localhost:8080/"
        },
        "id": "gRSDmdMdkNVN",
        "outputId": "5907a278-3aba-4f82-9218-e6e6bedf153e"
      },
      "source": [
        "#Up down using string slicing. I want to partition my string into two parts, and I want to get all combinations of partitions. \n",
        "\n",
        "'''\n",
        "Input: 123456\n",
        "\n",
        "I want following combinations of partition: \n",
        "      1-123456 \n",
        "      12-23456\n",
        "      123-3456\n",
        "      1234-456\n",
        "      12345-56\n",
        "      123456-6\n",
        "      123456-0\n",
        "My first half would be used to find a transition, and my second half would make sure that numbers strictly decrease after transition\n",
        "'''\n",
        "\n",
        "num=str(input(\"Enter a number:\"))\n",
        "\n",
        "transition=False #Flag to detect if there is a transition \n",
        "updownFlag=True\n",
        "\n",
        "for i in range(0, len(num)-1):\n",
        "  first_half=num[0:i+1] #Slicing from index 0 to i+1\n",
        "  second_half=num[i:len(num)] #Slicing from index i to end of string/list \n",
        "  \n",
        "  for j in range (0, len(first_half)-1): #This inner loop just iterates over first half i.e. left partition \n",
        "    if first_half[j]>first_half[j+1]:    #Condition becomes true whenever there is a transition \n",
        "      transition=True \n",
        "  \n",
        "  for k in range (0,len(second_half)-1): #This inner loop iterates over second half i.e. right partition \n",
        "    if transition and second_half[k]<second_half[k+1]: #Only becomes true when there is a transition AND the number increases after transition \n",
        "      updownFlag=False\n",
        "\n",
        "\n",
        "if transition and updownFlag: #True when there was a transition AND numbers were strictly decreasing after transition \n",
        "  print(\"It is Updown\")\n",
        "else: \n",
        "  print(\"It is not \")\n",
        "\n",
        "\n",
        "  "
      ],
      "execution_count": 28,
      "outputs": [
        {
          "output_type": "stream",
          "name": "stdout",
          "text": [
            "Enter a number:123456789987654321\n",
            "It is Updown\n"
          ]
        }
      ]
    },
    {
      "cell_type": "markdown",
      "metadata": {
        "id": "__Jid7uIMUQr"
      },
      "source": [
        "**Following is another version of solving up-down problem. It just uses while loops instead of for loops**\n",
        "\n",
        "**Contributer: Ruiqi Wang**"
      ]
    },
    {
      "cell_type": "code",
      "metadata": {
        "colab": {
          "base_uri": "https://localhost:8080/"
        },
        "id": "VB37PFqeM5J_",
        "outputId": "76021a3a-ac73-4226-f2b7-df7ba1a8ef18"
      },
      "source": [
        "number = input('input:')\n",
        "\n",
        "# up number: number[i] <= number[i+1]\n",
        "\n",
        "index = 0\n",
        "up = True\n",
        "while index < len(number) - 1:\n",
        "    # when some pairs of digits break the up rule\n",
        "    if number[index] > number[index+1]:\n",
        "        up = False\n",
        "    index = index + 1\n",
        "\n",
        "print('The number is an up number:', up)\n",
        "\n",
        "# down number: number[i] >= number[i+1]\n",
        "\n",
        "index = 0\n",
        "down = True\n",
        "while index < len(number) - 1:\n",
        "    # when some pairs of digits break the down rule\n",
        "    if number[index] < number[index+1]:\n",
        "        down = False\n",
        "    index = index + 1\n",
        "\n",
        "print('The number is an down number:', down)\n",
        "\n",
        "# up-down number:\n",
        "# exist an delimiter k\n",
        "#  i < k: number[i] <= number[i+1]\n",
        "#  i >= k: number[i] >= number[i+1]\n",
        "\n",
        "updown = False\n",
        "k = 1\n",
        "while k <= len(number):\n",
        "    number1 = number[:k]\n",
        "    number2 = number[k-1:]  # copy the last digit of number1\n",
        "    \n",
        "    # - Why should we copy?\n",
        "    # - For case 131, w/o the copy, we will get (1 & 31), (13 & 1)\n",
        "    #   1 is not up nor down, so the code will say 131 is not an up-down number\n",
        "    #   though it is.\n",
        "    #   So, we copy the 3 to the second part in (13 & 1) to get (13 & 31),\n",
        "    #   then it is a combination of up and down number\n",
        "    \n",
        "    k = k + 1\n",
        "\n",
        "    # up: the same code as before\n",
        "    index = 0\n",
        "    up = True\n",
        "    while index < len(number1) - 1:\n",
        "        if number1[index] > number1[index+1]:\n",
        "            up = False\n",
        "        index = index + 1\n",
        "\n",
        "    # down: the same code as before\n",
        "    index = 0\n",
        "    down = True\n",
        "    while index < len(number2) - 1:\n",
        "        if number2[index] < number2[index+1]:\n",
        "            down = False\n",
        "        index = index + 1\n",
        "    \n",
        "    # up-down\n",
        "    if up and down:\n",
        "        updown = True\n",
        "\n",
        "print('The number is an up-down number:', updown)"
      ],
      "execution_count": 33,
      "outputs": [
        {
          "output_type": "stream",
          "name": "stdout",
          "text": [
            "input:12344321\n",
            "The number is an up number: False\n",
            "The number is an down number: False\n",
            "The number is an up-down number: True\n"
          ]
        }
      ]
    }
  ]
}