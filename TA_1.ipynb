{
  "nbformat": 4,
  "nbformat_minor": 0,
  "metadata": {
    "colab": {
      "name": "TA_1.ipynb",
      "provenance": [],
      "collapsed_sections": [],
      "authorship_tag": "ABX9TyOcLrxAqI0zytZ7hp0NF5sj",
      "include_colab_link": true
    },
    "kernelspec": {
      "name": "python3",
      "display_name": "Python 3"
    },
    "language_info": {
      "name": "python"
    }
  },
  "cells": [
    {
      "cell_type": "markdown",
      "metadata": {
        "id": "view-in-github",
        "colab_type": "text"
      },
      "source": [
        "<a href=\"https://colab.research.google.com/github/TatheerZahara/Teaching-Assistantship-Recitations/blob/main/TA_1.ipynb\" target=\"_parent\"><img src=\"https://colab.research.google.com/assets/colab-badge.svg\" alt=\"Open In Colab\"/></a>"
      ]
    },
    {
      "cell_type": "code",
      "metadata": {
        "colab": {
          "base_uri": "https://localhost:8080/"
        },
        "id": "itkGr1kkB44e",
        "outputId": "a57ea843-e6bb-423a-82d7-8d4389880ec0"
      },
      "source": [
        "                   #Example 1\n",
        "\n",
        "                   \n",
        "#Celcius to Farenheight \n",
        "\n",
        "celsius = float(input('Enter temperature in Celsius: '))  \n",
        "\n",
        "# calculate temperature in Fahrenheit  \n",
        "fahrenheit = (celsius * 1.8) + 32  #Formula for cel-fahren\n",
        "\n",
        "\n",
        "print('%f  Celsius is equal to %f degree Fahrenheit'%(celsius,fahrenheit))  \n"
      ],
      "execution_count": null,
      "outputs": [
        {
          "output_type": "stream",
          "name": "stdout",
          "text": [
            "Enter temperature in Celsius: 45\n",
            "45.000000  Celsius is equal to 113.000000 degree Fahrenheit\n"
          ]
        }
      ]
    },
    {
      "cell_type": "code",
      "metadata": {
        "id": "iA2yv0WgCigN",
        "colab": {
          "base_uri": "https://localhost:8080/"
        },
        "outputId": "2a4fb10a-3ada-492d-abe5-227d23c418c7"
      },
      "source": [
        "                    #Example 2\n",
        "\n",
        "#Given a 4 digit number say 1234 I want to add 1+2+3+4\n",
        "four_dig = int(input('Enter a 4 digit number: '))\n",
        "\n",
        "first= int(four_dig%10)\n",
        "\n",
        "print('%i is the first digit' %first)\n",
        "\n",
        "four_dig=four_dig//10\n",
        "\n",
        "print('%i after chopping off' %four_dig)\n",
        "\n",
        "second= int(four_dig%10)\n",
        "print('%i is the second digit' %second)\n",
        "\n",
        "four_dig=four_dig//10\n",
        "print('%i after chopping off' %four_dig)\n",
        "\n",
        "third=int(four_dig%10)\n",
        "print('%i is the third digit' %third)\n",
        "\n",
        "fourth=int(four_dig//10)\n",
        "print('%i is the fourth digit' %fourth)\n",
        "\n",
        "sum=first+second+third+fourth\n",
        "\n",
        "print(sum)\n",
        "\n"
      ],
      "execution_count": null,
      "outputs": [
        {
          "output_type": "stream",
          "name": "stdout",
          "text": [
            "Enter a 4 digit number: 1234\n",
            "4 is the first digit\n",
            "123 after chopping off\n",
            "3 is the second digit\n",
            "12 after chopping off\n",
            "2 is the third digit\n",
            "1 is the fourth digit\n",
            "10\n"
          ]
        }
      ]
    },
    {
      "cell_type": "code",
      "metadata": {
        "colab": {
          "base_uri": "https://localhost:8080/"
        },
        "id": "NmgtBdNhKyq2",
        "outputId": "71dba15a-837d-4395-9d11-166d8d74c1f3"
      },
      "source": [
        "                  #Example 3\n",
        "#divisible by 5 \n",
        "\n",
        "num=int(input('Enter a number:'))\n",
        "result=num%5\n",
        "result=result+4\n",
        "result=result//5\n",
        "print(result)"
      ],
      "execution_count": null,
      "outputs": [
        {
          "output_type": "stream",
          "name": "stdout",
          "text": [
            "Enter a number:6\n",
            "1\n"
          ]
        }
      ]
    }
  ]
}