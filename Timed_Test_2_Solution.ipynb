{
  "nbformat": 4,
  "nbformat_minor": 0,
  "metadata": {
    "colab": {
      "name": "Timed_Test_2_Solution.ipynb",
      "provenance": [],
      "collapsed_sections": [],
      "authorship_tag": "ABX9TyMFTK4u9ZKjjv4DwyYosKTT"
    },
    "kernelspec": {
      "name": "python3",
      "display_name": "Python 3"
    },
    "language_info": {
      "name": "python"
    }
  },
  "cells": [
    {
      "cell_type": "markdown",
      "metadata": {
        "id": "WejUa4jccQP1"
      },
      "source": [
        "**Question#1:** Ask the user to enter n. Then ask the user to enter n numbers one by one. For example, if the user has specified n to be 4, then ask the user to enter 4 numbers. After storing the numbers, ask the user to enter another number k. Now check if any three numbers from the previous n entered number add up to k or not. \n",
        "\n",
        "Let's suppose that n is 4, your program execution would look something like this\n",
        "\n",
        "\n",
        "> Please enter a number: 1\n",
        "\n",
        "> Please enter a number: 99\n",
        "\n",
        "> Please enter a number: 200 \n",
        "\n",
        "> Please enter a number: 3 \n",
        "\n",
        "\n",
        "> Please enter k: 300 \n",
        "\n",
        "Three numbers add up to k. \n"
      ]
    },
    {
      "cell_type": "code",
      "metadata": {
        "colab": {
          "base_uri": "https://localhost:8080/"
        },
        "id": "LC2VCxyTgXQt",
        "outputId": "2d8aec24-1c36-4a1c-de83-c18634696608"
      },
      "source": [
        "n = int(input(\"Please enter n:\"))\n",
        "\n",
        "num=[] #List for storing the n entered numbers \n",
        "three_numbs=False #Flag for checking if three numbers add up to k or not \n",
        "\n",
        "for i in range (0,n):#Just asking the user for n\n",
        "  dig=int(input(\"Please enter a number:\"))\n",
        "  num.append(dig) #Just appending the entered number to the list \n",
        "\n",
        "k=int(input(\"Enter your k:\"))\n",
        "\n",
        "#Three loops so that all combinations of the list could be found. \n",
        "#First loop handles extracting one digit.Iterates from 0 up to n. So in each iteration, one digit is selected.  \n",
        "#Second loop takes that selected digit and gives a second digit. In each iteration of 2nd loop, we would have a different second digit\n",
        "#Third loop takes all digits except the ones being specified by loop 1 & 2 in that iteration. We would have a different digit in each iteration. \n",
        "\n",
        "for i in range(len(num)): \n",
        "  for j in range(i+1, len(num)): \n",
        "    for l in range(j+1,len(num)):\n",
        "      if num[i]+num[j]+num[l]==k:\n",
        "        three_numbs=True \n",
        "\n",
        "if three_numbs:\n",
        "  print(\"Three numbers add up to k\")\n",
        "else: \n",
        "  print(\"No three numbers add up to k\")"
      ],
      "execution_count": 29,
      "outputs": [
        {
          "output_type": "stream",
          "name": "stdout",
          "text": [
            "Please enter n:4\n",
            "Please enter a number:2\n",
            "Please enter a number:50\n",
            "Please enter a number:50\n",
            "Please enter a number:100\n",
            "Enter your k:200\n",
            "Three numbers add up to k\n"
          ]
        }
      ]
    },
    {
      "cell_type": "markdown",
      "metadata": {
        "id": "YvJTIg77mJ7U"
      },
      "source": [
        "**Question#2:** Ask the user to enter n numbers. Once the user has entered n numbers, try finding a combination of k, 2k, 4k. k could be any number from the entered list. \n",
        "\n",
        "Following is a preview of your output\n",
        "\n",
        "> Please enter n: 4\n",
        "\n",
        "> Enter a number: 9 \n",
        "\n",
        "> Enter a number: 2\n",
        "\n",
        "> Enter a number: 4\n",
        "\n",
        "\n",
        "> Enter a number: 8 \n",
        "\n",
        "So k here is 2, 2k is 4, and 4k is 8 because 2(2)=4 and 2(4)=8 "
      ]
    },
    {
      "cell_type": "code",
      "metadata": {
        "colab": {
          "base_uri": "https://localhost:8080/"
        },
        "id": "k3hR0FBRmKVb",
        "outputId": "d5f5d252-62e5-4969-a6f0-08af94d63d23"
      },
      "source": [
        "n = int(input(\"Please enter n:\"))\n",
        "\n",
        "num=[] #List for storing the n entered numbers \n",
        "three_numbs=False #Flag for checking if k,2k,4k was found or not\n",
        "\n",
        "for i in range (0,n):#Just asking the user for n\n",
        "  dig=int(input(\"Please enter a number\"))\n",
        "  num.append(dig) #Just appending the entered number to the list \n",
        "\n",
        "\n",
        "#Three loops so that all combinations of the lists could be found. \n",
        "for i in range(len(num)): \n",
        "  for j in range(len(num)): \n",
        "    for k in range(len(num)):\n",
        "      #num[j]--2*num[i] is simply checking if num[i] is equal to 2k or not\n",
        "      #Doing i!=j, i!=k to make sure we don't end up compairing the same number again and again \n",
        "      if num[j]==2*num[i] and num[k]==4*num[i] and i!=j and i!=k and j!=k :\n",
        "        three_numbs=True\n",
        "\n",
        "if three_numbs:\n",
        "  print(\"k,2k,3k were found\")\n",
        "else: \n",
        "  print(\"No combination of k,2k, 3k\")"
      ],
      "execution_count": 26,
      "outputs": [
        {
          "output_type": "stream",
          "name": "stdout",
          "text": [
            "Please enter n:4\n",
            "Please enter a number3\n",
            "Please enter a number6\n",
            "Please enter a number12\n",
            "Please enter a number3\n",
            "k,2k,3k\n"
          ]
        }
      ]
    }
  ]
}