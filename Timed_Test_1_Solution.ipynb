{
  "nbformat": 4,
  "nbformat_minor": 0,
  "metadata": {
    "colab": {
      "name": "Timed_Test_1_Solution.ipynb",
      "provenance": [],
      "collapsed_sections": [],
      "authorship_tag": "ABX9TyM69gnrZYCIOOacA1M2Aekc"
    },
    "kernelspec": {
      "name": "python3",
      "display_name": "Python 3"
    },
    "language_info": {
      "name": "python"
    }
  },
  "cells": [
    {
      "cell_type": "markdown",
      "metadata": {
        "id": "1c18RmveeFj7"
      },
      "source": [
        "**Version#1: Ask the user to enter a character**\n",
        "\n",
        "1. If the user enters a lowercase letter, output the letter converted to uppercase.\n",
        "2. If the user enters a digit which is 0 through 4, output small\n",
        "3. If the user enters a digit which is 5 through 9, output large\n",
        "4. If the user enters an uppercase letter, output the letter repeated depending on which letter of the alphabet it is. If it is A you should output just A as it is the 1st letter of the alphabet. If it is D you should output DDDD as D is the 4th letter of the alphabet. Similarly, for B you should output **BB**, for C you should output **CCC** and so on. If anything else is entered, output invalid\n"
      ]
    },
    {
      "cell_type": "code",
      "metadata": {
        "colab": {
          "base_uri": "https://localhost:8080/"
        },
        "id": "4fJ6ycM9fKqq",
        "outputId": "f6ead94b-11e6-47d0-8ad4-d61f97bcde17"
      },
      "source": [
        "\n",
        "char=(input(\"Enter a character:\")) #input \n",
        "\n",
        "#Using ord() function to retrieve the unicode of an entered character. We wil use this unicode in our if conditions. \n",
        "\n",
        "#We will use chr() function to get the character/number if unicode/ASCII code was given\n",
        "\n",
        "uni_code = ord(char) #Would be better if we just use ord () in our ifs \n",
        "\n",
        "#Since this program required one output; therefore, all ifs are interlinked. If one if is false, the program execution will jump to the next if. \n",
        "\n",
        "#The values below can be found from the ASCII table, which Ishan has used in his videos. It could easily be found on Google. \n",
        "if uni_code >= 97 and uni_code <= 122:  #Lowercase a is equal to 97 and z is equal to 122. Therefore, whenever user enters a lowercase alphabet, this condition will become true \n",
        "  result=chr(uni_code-32)   #Introduced result variable just for readbility. You could write this in print statment too. \n",
        "  #Subtracting uni_code with 32 will give the uppercase value. Forexample, 97(lowercase a)-32 gives 65, which is uppercase value of A\n",
        "  print(result)\n",
        "elif uni_code >= 48 and uni_code <= 52:     #48=0 and 52=5. Therefore, this will only be true whenever the user enters a number from 0 to 4\n",
        "  print(\"Small\")\n",
        "elif uni_code >= 53 and uni_code <= 57:    #53=4 and 57=9. Therefore, this will only be true whenever the user enters a number from 0 to 9 \n",
        "  print(\"Large\")\n",
        "elif uni_code >= 65 and uni_code <= 90: #65=A and Z=90\n",
        "  repeat = uni_code - 64 #Subtracting with 64 will give a number, that tells which letter of the alphabet it is. 65(A)-64=1, 65(B)-64= 2\n",
        "  char=chr(uni_code)\n",
        "  print(char * repeat) #String multiplication. B*2=BB\n",
        "else:\n",
        "  print(\"Invalid input\")"
      ],
      "execution_count": 30,
      "outputs": [
        {
          "output_type": "stream",
          "name": "stdout",
          "text": [
            "Enter a character:D\n",
            "DDDD\n"
          ]
        }
      ]
    },
    {
      "cell_type": "markdown",
      "metadata": {
        "id": "UQ0yaMGin9th"
      },
      "source": [
        "**Version#2: Ask the user to enter a character.**\n",
        "   1. If the user enters an uppercase letter output the letter converted to lowercase.\n",
        "   2. If the user enters a digit which is 0 through 3, output small\n",
        "   3. If the user enters a digit which is 4 through 6, output medium\n",
        "   4. If the user enters a digit which is 7 through 9, output large\n",
        "   5. If the user enters a lowercase letter, output the letter repeated depending on which letter of the alphabet it is. If it is **a** you should output just **a** as it is the 1st letter of the alphabet. If it is **d** you should output **dddd** as d is the 4th letter of the alphabet. Similarly, for **b** you should output **bb**, for **c** you should output **ccc** and so on. If anything else is entered, output invalid."
      ]
    },
    {
      "cell_type": "code",
      "metadata": {
        "colab": {
          "base_uri": "https://localhost:8080/"
        },
        "id": "IKRRM07Qgiz0",
        "outputId": "c6c4d131-9de6-4277-a7d6-1757cf94ec80"
      },
      "source": [
        "\n",
        "char=(input(\"Enter a character:\")) #input \n",
        "\n",
        "#Using ord() function to retrieve the unicode of an entered character. We wil use this unicode in our if conditions. \n",
        "\n",
        "#We will use chr() function to get the character/number if unicode/ASCII code was given\n",
        "\n",
        "#Since this program required one output; therefore, all ifs are interlinked. If one if is false, the program execution will jump to the next if. \n",
        "\n",
        "#The values below can be found from the ASCII table, which Ishan has used in his videos. It could easily be found on Google. \n",
        "if ord(char) >= 65 and ord(char) <= 90: #Uppercase A is equal to 65, Z=90. \n",
        "  uni_code=ord(char)\n",
        "  result=uni_code+32    #Adding 32 to the unicode of uppercase will give the lowercase unicode value of the same alphabet. For example, 65+32=97 which is the lowercase value of a\n",
        "  print(chr(result))\n",
        "elif ord(char) >= 48 and ord(char) <= 51: #48=0 and 51=3\n",
        "  print(\"Small\")\n",
        "elif ord(char) >= 52 and ord(char) <= 54: #52=4 and 54=6\n",
        "  print(\"Medium\")\n",
        "elif ord(char) >= 55 and ord(char) <= 57: #55=7 and 57=9\n",
        "  print(\"Large\")\n",
        "elif ord(char) >= 97 and ord(char) <= 122: #97=a and 122=z\n",
        "  repeat=ord(char)-96    #If we subtract 96 from the unicode of an alphate, we would get which letter of the alphate it is. For example, 97(a)-96=1, 98(b)-96=2\n",
        "  print(char*repeat) #string multiplication \n",
        "else:\n",
        "  print(\"Invalid input\")"
      ],
      "execution_count": 47,
      "outputs": [
        {
          "output_type": "stream",
          "name": "stdout",
          "text": [
            "Enter a character:c\n",
            "ccc\n"
          ]
        }
      ]
    }
  ]
}