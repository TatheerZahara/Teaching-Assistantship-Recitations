{
  "nbformat": 4,
  "nbformat_minor": 0,
  "metadata": {
    "colab": {
      "name": "TA_2.ipynb",
      "provenance": [],
      "collapsed_sections": [],
      "authorship_tag": "ABX9TyN0+FwXJ6dEy6AaEjVAzSQj",
      "include_colab_link": true
    },
    "kernelspec": {
      "name": "python3",
      "display_name": "Python 3"
    },
    "language_info": {
      "name": "python"
    }
  },
  "cells": [
    {
      "cell_type": "markdown",
      "metadata": {
        "id": "view-in-github",
        "colab_type": "text"
      },
      "source": [
        "<a href=\"https://colab.research.google.com/github/TatheerZahara/Teaching-Assistantship-Recitations/blob/main/TA_2.ipynb\" target=\"_parent\"><img src=\"https://colab.research.google.com/assets/colab-badge.svg\" alt=\"Open In Colab\"/></a>"
      ]
    },
    {
      "cell_type": "code",
      "metadata": {
        "colab": {
          "base_uri": "https://localhost:8080/"
        },
        "id": "RzcOx6bk1uEX",
        "outputId": "391db839-cba1-403f-ada6-213ff882845b"
      },
      "source": [
        "# Check if a number is a perfect power of another number. For example, is 125 a perfect power of 5 because 5^3=125. Another example would be 243 being a perfect power of 3\n",
        "\n",
        "num=int(input(\"Enter your nunber: \"))\n",
        "base=int(input(\"Enter the base:\"))\n",
        "\n",
        "while num%base==0:   #125%5=0 ----> 25%5=0---->5%5==0 \n",
        "  num=num/base\n",
        "\n",
        "if num==1:\n",
        "  print(\"It is a perfect power of\", base)\n",
        "else:\n",
        "    print(\"It is not a perfect power of\", base)"
      ],
      "execution_count": null,
      "outputs": [
        {
          "output_type": "stream",
          "name": "stdout",
          "text": [
            "Enter your nunber: 125\n",
            "Enter the base:5\n",
            "It is a perfect power of 5\n"
          ]
        }
      ]
    },
    {
      "cell_type": "code",
      "metadata": {
        "colab": {
          "base_uri": "https://localhost:8080/"
        },
        "id": "Fn5uh8ZzifVP",
        "outputId": "70cb015d-ee98-47c8-aab2-12f84bd8975b"
      },
      "source": [
        "#This program is an extension of the above one. Here we ask the user to enter a number and check if the entered number is a perfect power of any number in the number set\n",
        "num=int(input(\"Enter your number:\"))  \n",
        "base= 2\n",
        "\n",
        "while base < num**(1/2) :   #This loop would run from 2 to the square root of num \n",
        "\n",
        "  num2=num   #Copying num to a new variable so that my loops don't change the value of original number \n",
        "\n",
        "  while num2%base==0:  #Inner Loop 125%5==0 25%5==0 etc \n",
        "    num2=num2/base      \n",
        "    #Inner loop ends \n",
        "  #Back in outer loop \n",
        "  if num2==1:\n",
        "    print(\"It is a perfect power of\", base)\n",
        "    base=num #Changing the value of base to num just to escape out of the loop \n",
        "  else: \n",
        "    base+=1 #Normal loop increment (Outer loop)\n",
        "\n",
        "\n",
        "\n",
        "\n"
      ],
      "execution_count": null,
      "outputs": [
        {
          "output_type": "stream",
          "name": "stdout",
          "text": [
            "Enter your number:125\n",
            "It is a perfect power of 5\n"
          ]
        }
      ]
    },
    {
      "cell_type": "code",
      "metadata": {
        "colab": {
          "base_uri": "https://localhost:8080/"
        },
        "id": "iyYD8Qo28_NN",
        "outputId": "91f89324-962c-41e5-c263-a5496e8b23f3"
      },
      "source": [
        "#Fibonnaci Series \n",
        "\n",
        "#0, 1, 1, 2, 3, 5, 8, 13, \n",
        "\n",
        "num1=0\n",
        "num2=1 \n",
        "\n",
        "cond=int(input(\"Enter how many numbers you want from the series\"))\n",
        "print(num1, end=\",\") #Just printing out first number\n",
        "print(num2, end=\",\")  #Printing second number \n",
        "\n",
        "i=0 #loop conditional variable \n",
        "sum=0 #variable for addition \n",
        "\n",
        "while i < cond-2: #cond-2 because we have already entered first two values \n",
        "  sum=num1+num2 \n",
        "  print(sum, end=\",\") \n",
        "\n",
        "  num1=num2 \n",
        "  num2=sum \n",
        "\n",
        "  i+=1 #loop variables \n",
        "\n",
        "\n",
        "\n",
        "\n",
        "\n",
        "\n",
        "\n"
      ],
      "execution_count": null,
      "outputs": [
        {
          "output_type": "stream",
          "name": "stdout",
          "text": [
            "Enter how many numbers you want from the series5\n",
            "0,1,1,2,3,"
          ]
        }
      ]
    },
    {
      "cell_type": "code",
      "metadata": {
        "colab": {
          "base_uri": "https://localhost:8080/"
        },
        "id": "11M_iBs9_Sks",
        "outputId": "607e3b12-93d9-4b1e-f81f-7e3f2bca5d19"
      },
      "source": [
        "# Find a missing number from a range entered by the user. First ask the user to enter a ranger. After this ask the user to enter [range-1] numbers. Our program should be able to find the missing number from the range \n",
        "first=int(input(\"Enter first number of your range\"))\n",
        "last=int(input(\"Enter last number of your range\"))\n",
        "\n",
        "\n",
        "#Find the sum of numbers in the range. FOr example, in case of 1 to 4, our sum would be 1+2+3+4=10 \n",
        "\n",
        "sum=0\n",
        "while first<=last: \n",
        "  sum=sum+first\n",
        "  first+=1\n",
        "\n",
        "#End of sum \n",
        "i=0\n",
        "sum2=0 #Sum of the values entered by the user\n",
        "while(i<last-1):\n",
        "  num=int(input(\"Enter a number in your range\"))\n",
        "  sum2=sum2+num #actually finding the sum here \n",
        "  i+=1\n",
        "\n",
        "missing= int(sum-sum2)\n",
        "print(\"Your missing number is\",missing)\n",
        "\n"
      ],
      "execution_count": null,
      "outputs": [
        {
          "output_type": "stream",
          "name": "stdout",
          "text": [
            "Enter first number of your range1\n",
            "Enter last number of your range4\n",
            "Enter a number in your range1\n",
            "Enter a number in your range4\n",
            "Enter a number in your range3\n",
            "Your missing number is 2\n"
          ]
        }
      ]
    }
  ]
}