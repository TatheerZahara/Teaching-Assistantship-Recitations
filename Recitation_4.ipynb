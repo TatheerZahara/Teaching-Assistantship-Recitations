{
  "nbformat": 4,
  "nbformat_minor": 0,
  "metadata": {
    "colab": {
      "name": "Recitation_4.ipynb",
      "provenance": [],
      "collapsed_sections": [],
      "authorship_tag": "ABX9TyPudHORvo6XClYYjojC5Zmr"
    },
    "kernelspec": {
      "name": "python3",
      "display_name": "Python 3"
    },
    "language_info": {
      "name": "python"
    }
  },
  "cells": [
    {
      "cell_type": "markdown",
      "metadata": {
        "id": "WejUa4jccQP1"
      },
      "source": [
        "**Bubble Sort**\n",
        "> Summary: Compare two numbers, and swap them. Repeat this process till the entire list is sorted\n",
        "\n",
        "Animation: https://visualgo.net/en/sorting [Thank Rishab Bhatt]\n",
        "\n",
        "\n",
        "\n",
        "\n",
        "\n"
      ]
    },
    {
      "cell_type": "code",
      "metadata": {
        "colab": {
          "base_uri": "https://localhost:8080/"
        },
        "id": "MotORJDZcR-V",
        "outputId": "940c3afa-6e21-4e0c-93ad-c47ccc4e757f"
      },
      "source": [
        "num=[64, 34, 25, 12, 22, 11, 90] #List that needs to be sorted. You can ask the user to enter inputs as well. \n",
        "\n",
        "n = len(num) #Storing the length of list \n",
        "\n",
        "for i in range(0,n-1): #Outer loop iterates over the entire list \n",
        "  for j in range(0, n-i-1): #Inner loop iterates over the numbers that haven't been sorted. \n",
        "\n",
        "    if num[j]>num[j+1]: #If current digit is greater than next digit, swap them \n",
        "      temp=num[j] #Storing current digit \n",
        "      num[j]=num[j+1] #Moving next digit to current digit's position \n",
        "      num[j+1]=temp  #Saving the value of temp at next digit's index \n",
        "\n",
        "print (\"Sorted array is:\") #Just printing out the sorted list using a for loop \n",
        "for i in range(len(num)):\n",
        "    print (num[i]),"
      ],
      "execution_count": 2,
      "outputs": [
        {
          "output_type": "stream",
          "name": "stdout",
          "text": [
            "Sorted array is:\n",
            "11\n",
            "12\n",
            "22\n",
            "25\n",
            "34\n",
            "64\n",
            "90\n"
          ]
        }
      ]
    },
    {
      "cell_type": "markdown",
      "metadata": {
        "id": "dyD3_Dlldyj0"
      },
      "source": [
        "**Insertion Sort**  \n",
        "\n",
        "\n",
        "> Summary: Compare with the previous digit. If previous digit is greater than current digit, take it out and insert it at its right position.\n",
        "\n"
      ]
    },
    {
      "cell_type": "code",
      "metadata": {
        "colab": {
          "base_uri": "https://localhost:8080/"
        },
        "id": "OeXo7i7fe63B",
        "outputId": "73b4aaa0-2f17-4a92-d71d-3c3aa427bef1"
      },
      "source": [
        "num = [1, 11, 13, 5, 6] #List that needs sorting \n",
        "\n",
        "for i in range(1, len(num)): #Outer loop for iterating over the entire list\n",
        "  key = num[i]\n",
        "  j=i-1 #Conditional variable for inner loop\n",
        "  while j >= 0 and key < num[j] : #Goes into inner if and only if current digit is less than previous digit \n",
        "    num[j + 1] = num[j] #Move previous digit by one index \n",
        "    j -= 1 #decrement index value \n",
        "    num[j + 1] = key #Move current digit to decremented index value \n",
        "\n",
        "print(\"Sorted array\")\n",
        "for i in range(len(num)):\n",
        "    print (\"% d\" % num[i])"
      ],
      "execution_count": 3,
      "outputs": [
        {
          "output_type": "stream",
          "name": "stdout",
          "text": [
            "Sorted array\n",
            " 1\n",
            " 5\n",
            " 6\n",
            " 11\n",
            " 13\n"
          ]
        }
      ]
    },
    {
      "cell_type": "markdown",
      "metadata": {
        "id": "8klKoiNkcLgh"
      },
      "source": [
        "**Points to note:**\n",
        "\n",
        "\n",
        "1. Familiarize yourself with terms such as passes and comparisons. These terms are used for comparing sorting algorithms. \n",
        "2. Notice how bubble sort performs a comparison at each step. However, in case of insertion sort, a comparison is only done if our current digit is less than previous one. Therefore, insertion sort reduces the number of comparisons drastically, and is faster. \n",
        "3. Both algorithms peform poorly if the list is reversly sorted and/or the list is too large. For example, [10000, 9999, 9998,..........,0] would have a terrible performace. \n",
        "\n"
      ]
    }
  ]
}